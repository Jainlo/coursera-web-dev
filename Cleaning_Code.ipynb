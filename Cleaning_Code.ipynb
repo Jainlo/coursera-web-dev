{
  "nbformat": 4,
  "nbformat_minor": 0,
  "metadata": {
    "colab": {
      "name": "Cleaning Code.ipynb",
      "provenance": [],
      "collapsed_sections": [],
      "authorship_tag": "ABX9TyM1QQAYkr/BZCPgyQOrx+KL",
      "include_colab_link": true
    },
    "kernelspec": {
      "name": "python3",
      "display_name": "Python 3"
    },
    "language_info": {
      "name": "python"
    }
  },
  "cells": [
    {
      "cell_type": "markdown",
      "metadata": {
        "id": "view-in-github",
        "colab_type": "text"
      },
      "source": [
        "<a href=\"https://colab.research.google.com/github/Jainlo/coursera-web-dev/blob/main/Cleaning_Code.ipynb\" target=\"_parent\"><img src=\"https://colab.research.google.com/assets/colab-badge.svg\" alt=\"Open In Colab\"/></a>"
      ]
    },
    {
      "cell_type": "code",
      "metadata": {
        "colab": {
          "base_uri": "https://localhost:8080/"
        },
        "id": "Fu0N6JgcuF1Z",
        "outputId": "b10ddf11-3ca8-49ff-9373-7f08537dffc5"
      },
      "source": [
        "#link colab with drive\n",
        "import os\n",
        "from google.colab import drive\n",
        "drive.mount('/content/drive/') "
      ],
      "execution_count": null,
      "outputs": [
        {
          "output_type": "stream",
          "text": [
            "Mounted at /content/drive/\n"
          ],
          "name": "stdout"
        }
      ]
    },
    {
      "cell_type": "code",
      "metadata": {
        "id": "WEqNE5xmuFQZ"
      },
      "source": [
        "#retrieve all files in a folder(directory) and return in array\n",
        "def listAllFiles(dir, ext):    \n",
        "    allfiles = []\n",
        "    for root, subdirs, files in os.walk(dir):\n",
        "   \n",
        "        for filename in files:\n",
        "            file_path = os.path.join(root, filename)\n",
        "            if file_path.endswith(ext):\n",
        "                if '.git' not in file_path:\n",
        "                    allfiles.append(file_path)\n",
        "\n",
        "    return allfiles\n"
      ],
      "execution_count": null,
      "outputs": []
    },
    {
      "cell_type": "code",
      "metadata": {
        "id": "tNqYCgVAsMaf"
      },
      "source": [
        "#if html file doesnt have .htm use this function\n",
        "def changeExt(dir, ext):    \n",
        "    for root, subdirs, files in os.walk(dir):\n",
        "   \n",
        "        for filename in files:\n",
        "            file_path = os.path.join(root, filename)\n",
        "            newFilePath = file_path + ext\n",
        "            try :\n",
        "                os.rename(file_path, newFilePath)\n",
        "            except IsADirectoryError:\n",
        "                print(\"Source is a file but destination is a directory.\")\n",
        "            except NotADirectoryError:\n",
        "                print(\"Source is a directory but destination is a file.\")\n",
        "            "
      ],
      "execution_count": null,
      "outputs": []
    },
    {
      "cell_type": "code",
      "metadata": {
        "id": "LBP1rov4vU7I"
      },
      "source": [
        "#retrieve the content of each file and return as text\n",
        "def readFileContent(filename):\n",
        "    # Open the file as f.\n",
        "    # The function readlines() reads the file.\n",
        "    with open(filename) as f:\n",
        "        content = f.readlines()\n",
        "    return content"
      ],
      "execution_count": null,
      "outputs": []
    },
    {
      "cell_type": "code",
      "metadata": {
        "id": "BnNVayT0PSaR"
      },
      "source": [
        "#call in main\n",
        "def cleanFile(filename):\n",
        "    collectedLines = []\n",
        "    #open file\n",
        "    with open(filename) as f:\n",
        "        #read file line by line\n",
        "        lines = f.readlines()\n",
        "        #loop through each line\n",
        "        for i in range(len(lines)):\n",
        "            #send single line through a cleaning function\n",
        "            #append each line after cleaning to the new array \n",
        "            collectedLines.append(cleanLines(lines[i]))\n",
        "        #convert array to string for readability \n",
        "        finalText = listToText(collectedLines)\n",
        "        finalText = os.linesep.join([s for s in finalText.splitlines() if s])\n",
        "    #return string\n",
        "    return finalText\n",
        "\n",
        "\n",
        "\n",
        "#call in cleanFile() function\n",
        "#clean single line of code\n",
        "def cleanLines(line):\n",
        "    #define all characters and symbols we want\n",
        "    arabicChar = ['ـ','أ', 'ب', 'ت','ث','ج','ح','خ','د','ذ','ر','ز','س','ش','ص','ض','ط','ظ','ع','غ','ف','ق','ك','ل','م','ن','ه','و','ي','ا','آ','ى','ئ','ؤ','إ','ة','ء',' ','َ','ً','ِ','ٍ','ُ','ٌ','ْ','ّ','١','٢','٣','٤','٥','٦','٧','٨','٩','٠','،','؛','!','؟']\n",
        "    #create variable for the new clean line\n",
        "    cleanLine = \"\"\n",
        "    #loop through each characters of the line\n",
        "    for c in line:\n",
        "        #if character is in arabic char\n",
        "        if c in arabicChar:\n",
        "            #keep it\n",
        "            cleanLine += c\n",
        "        else:\n",
        "            #if its not in arabic char, replace it with a space\n",
        "            cleanLine += \" \"\n",
        "    #remove any double spaces and return the new string\n",
        "    return \" \".join(cleanLine.split())\n",
        "\n",
        "#call in cleanFile() function\n",
        "#turn list items into one string\n",
        "def listToText(lines):\n",
        "    #create string\n",
        "    listString = \"\"\n",
        "    #loop through the list\n",
        "    for i in range(len(lines)):\n",
        "        #concatenate each list item to the string \n",
        "        listString += lines[i]\n",
        "        listString += \"\\n\"\n",
        "    #return string\n",
        "    return listString"
      ],
      "execution_count": null,
      "outputs": []
    },
    {
      "cell_type": "code",
      "metadata": {
        "id": "NDG5LrU5uMnW"
      },
      "source": [
        "def main():\n",
        "    #specify the folder (directory)\n",
        "    path = \"/content/drive/MyDrive/newVersion/corpus/Alyaum\"\n",
        "    #save all files in that directory in an array\n",
        "    allFiles = listAllFiles(path, \".htm\")  \n",
        "    #loop through all files to clean them\n",
        "    for file in allFiles:\n",
        "        #send file path - return clean file as text\n",
        "        fileAfterClean = cleanFile(file)\n",
        "        newName = os.path.splitext(file)[0] +\".txt\"\n",
        "        f = open(newName, \"w\")\n",
        "        f.write(fileAfterClean)\n",
        "        f.close()\n",
        "if __name__ == \"__main__\":\n",
        "    main()"
      ],
      "execution_count": null,
      "outputs": []
    },
    {
      "cell_type": "code",
      "metadata": {
        "colab": {
          "base_uri": "https://localhost:8080/"
        },
        "id": "VDrbNJ2_nD9J",
        "outputId": "de4249aa-5057-4517-876c-33ece4204b02"
      },
      "source": [
        "        #print(len(allFiles))\n",
        "    #changeExt(path, \".htm\")\n",
        "    #allFiles = listAllFiles(path, \".htm\")\n",
        "    #print(len(allFiles))\n",
        "\n",
        "            #newName = allFiles[0] + \".txt\"\n",
        "            #os.rename(file, newName)\n",
        "\n",
        "    #specify the folder (directory)\n",
        "    path = \"/content/drive/MyDrive/newVersion/corpus/Aljazirah\"\n",
        "    #save all html files in an array\n",
        "    allFiles = listAllFiles(path, \".txt\")\n",
        "    #print number of html files found\n",
        "    print(len(allFiles))\n"
      ],
      "execution_count": null,
      "outputs": [
        {
          "output_type": "stream",
          "text": [
            "322334\n"
          ],
          "name": "stdout"
        }
      ]
    }
  ]
}